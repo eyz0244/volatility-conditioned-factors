{
 "cells": [
  {
   "cell_type": "code",
   "execution_count": 3,
   "metadata": {},
   "outputs": [],
   "source": [
    "import sys, os\n",
    "sys.path.append(os.path.abspath(\"../src\"))\n",
    "import numpy as np\n",
    "import pandas as pd\n",
    "\n",
    "from factor_calculations import *\n",
    "\n",
    "price = pd.read_parquet(\"../data/processed/price_filtered.parquet\")\n",
    "\n",
    "# Remove weekends and duplicates\n",
    "price = price[price.index.dayofweek < 5]\n",
    "price = price[~price.index.duplicated()]\n",
    "\n",
    "# Drop tickers with weird prices (e.g. <= 1 or negative)\n",
    "price = price.loc[:, (price > 1).all()]\n",
    "\n",
    "# Re-save clean version\n",
    "price.to_parquet(\"../data/processed/price_filtered.parquet\")\n",
    "\n",
    "returns = compute_log_returns(price)\n",
    "\n",
    "momentum = compute_momentum(price)\n",
    "reversal = compute_reversal(returns)\n",
    "volatility = compute_volatility(returns)\n",
    "\n",
    "momentum.to_parquet(\"../data/processed/momentum.parquet\")\n",
    "reversal.to_parquet(\"../data/processed/reversal.parquet\")\n",
    "volatility.to_parquet(\"../data/processed/volatility.parquet\")"
   ]
  },
  {
   "cell_type": "code",
   "execution_count": 7,
   "metadata": {},
   "outputs": [],
   "source": [
    "price = pd.read_parquet(\"../data/processed/price_filtered.parquet\")\n",
    "\n",
    "# Remove weekends and duplicates\n",
    "price = price[price.index.dayofweek < 5]\n",
    "price = price[~price.index.duplicated()]\n"
   ]
  },
  {
   "cell_type": "code",
   "execution_count": 9,
   "metadata": {},
   "outputs": [
    {
     "data": {
      "text/plain": [
       "419"
      ]
     },
     "execution_count": 9,
     "metadata": {},
     "output_type": "execute_result"
    }
   ],
   "source": [
    "len(price"
   ]
  },
  {
   "cell_type": "code",
   "execution_count": null,
   "metadata": {},
   "outputs": [],
   "source": []
  },
  {
   "cell_type": "code",
   "execution_count": null,
   "metadata": {},
   "outputs": [],
   "source": []
  },
  {
   "cell_type": "code",
   "execution_count": 1,
   "metadata": {},
   "outputs": [
    {
     "ename": "NameError",
     "evalue": "name 'price' is not defined",
     "output_type": "error",
     "traceback": [
      "\u001b[1;31m---------------------------------------------------------------------------\u001b[0m",
      "\u001b[1;31mNameError\u001b[0m                                 Traceback (most recent call last)",
      "\u001b[1;32m<ipython-input-1-428d1bbfcd29>\u001b[0m in \u001b[0;36m<module>\u001b[1;34m\u001b[0m\n\u001b[1;32m----> 1\u001b[1;33m \u001b[0mprice\u001b[0m\u001b[1;33m\u001b[0m\u001b[1;33m\u001b[0m\u001b[0m\n\u001b[0m",
      "\u001b[1;31mNameError\u001b[0m: name 'price' is not defined"
     ]
    }
   ],
   "source": [
    "price"
   ]
  },
  {
   "cell_type": "code",
   "execution_count": 9,
   "metadata": {},
   "outputs": [],
   "source": []
  },
  {
   "cell_type": "code",
   "execution_count": null,
   "metadata": {},
   "outputs": [],
   "source": []
  }
 ],
 "metadata": {
  "kernelspec": {
   "display_name": "Python 3",
   "language": "python",
   "name": "python3"
  },
  "language_info": {
   "codemirror_mode": {
    "name": "ipython",
    "version": 3
   },
   "file_extension": ".py",
   "mimetype": "text/x-python",
   "name": "python",
   "nbconvert_exporter": "python",
   "pygments_lexer": "ipython3",
   "version": "3.7.3"
  }
 },
 "nbformat": 4,
 "nbformat_minor": 2
}
