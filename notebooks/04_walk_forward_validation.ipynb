{
 "cells": [
  {
   "cell_type": "markdown",
   "metadata": {},
   "source": [
    "## Notebook 04 – Walk Forward Validation\n",
    "\n",
    "This notebook performs walk-forward validation of long-short momentum returns, conditioned on volatility and dispersion regimes. This notebook then exports the results for downstream analysis."
   ]
  },
  {
   "cell_type": "markdown",
   "metadata": {},
   "source": [
    "### Step 0 - Import packages and functions"
   ]
  },
  {
   "cell_type": "code",
   "execution_count": 1,
   "metadata": {},
   "outputs": [
    {
     "name": "stderr",
     "output_type": "stream",
     "text": [
      "C:\\Users\\edzz0\\AppData\\Local\\Continuum\\anaconda3\\lib\\site-packages\\pandas\\compat\\_optional.py:138: UserWarning: Pandas requires version '2.7.0' or newer of 'numexpr' (version '2.6.9' currently installed).\n",
      "  warnings.warn(msg, UserWarning)\n"
     ]
    }
   ],
   "source": [
    "import sys, os\n",
    "sys.path.append(os.path.abspath(\"../src\"))\n",
    "import pandas as pd\n",
    "import numpy as np\n",
    "\n",
    "# Helper functions to perform walk-forward testing\n",
    "from backtest_engine import model_decile_long_short, walk_forward_model_apply"
   ]
  },
  {
   "cell_type": "markdown",
   "metadata": {},
   "source": [
    "### Step 1 - Import log returns, momentum, volatility regime, and dispersion regime datasets"
   ]
  },
  {
   "cell_type": "code",
   "execution_count": 2,
   "metadata": {},
   "outputs": [],
   "source": [
    "# Import log returns\n",
    "log_returns = pd.read_parquet(\"../data/processed/log_returns.parquet\")\n",
    "\n",
    "# Import momentum\n",
    "momentum = pd.read_parquet(\"../data/processed/momentum.parquet\")\n",
    "\n",
    "# Import volatility regimes\n",
    "regime_vol = pd.read_parquet(\"../data/processed/regime_market_vol.parquet\")[\"vol_regime\"]\n",
    "\n",
    "# Import dispersion regimes\n",
    "regime_disp = pd.read_parquet(\"../data/processed/regime_cross_dispersion.parquet\")[\"disp_regime\"] # accesses disp_regime column"
   ]
  },
  {
   "cell_type": "markdown",
   "metadata": {},
   "source": [
    "### Step 2 - Perform walk-forward validation by volatility regime"
   ]
  },
  {
   "cell_type": "code",
   "execution_count": 3,
   "metadata": {},
   "outputs": [],
   "source": [
    "# Perform walk-foward validation on low volatility regime. Train window not used in this model so use default (0)\n",
    "wf_mom_low = walk_forward_model_apply(momentum, log_returns, regime_vol, \"low_vol\", \n",
    "                                       model_fn = model_decile_long_short)\n",
    "\n",
    "# Perform walk-foward validation on high volatility regime. Train window not used in this model so use default (0)\n",
    "wf_mom_high = walk_forward_model_apply(momentum, log_returns, regime_vol, \"high_vol\",\n",
    "                                       model_fn = model_decile_long_short)"
   ]
  },
  {
   "cell_type": "markdown",
   "metadata": {},
   "source": [
    "### Step 3 - Export walk-forward validation by volatility regime results"
   ]
  },
  {
   "cell_type": "code",
   "execution_count": 4,
   "metadata": {},
   "outputs": [],
   "source": [
    "# Save walk-forward results by volatility regime as parquet files\n",
    "wf_mom_low_renamed = wf_mom_low.rename(columns={\"returns\": \"wf_mom_low_vol\"})\n",
    "wf_mom_low_renamed.to_parquet(\"../data/processed/wf_mom_low.parquet\")\n",
    "\n",
    "wf_mom_high_renamed = wf_mom_high.rename(columns={\"returns\": \"wf_mom_high_vol\"})\n",
    "wf_mom_high_renamed.to_parquet(\"../data/processed/wf_mom_high.parquet\")"
   ]
  },
  {
   "cell_type": "markdown",
   "metadata": {},
   "source": [
    "### Step 4 - Perform walk-forward validation by dispersion regime"
   ]
  },
  {
   "cell_type": "code",
   "execution_count": 5,
   "metadata": {},
   "outputs": [],
   "source": [
    "# Perform walk-foward validation on low dispersion regime. Train window not used in this model so use default (0)\n",
    "wf_mom_disp_low = walk_forward_model_apply(momentum, log_returns, regime_disp, \"low_disp\",\n",
    "                                       model_fn = model_decile_long_short)\n",
    "\n",
    "\n",
    "# Perform walk-foward validation on high dispersion regime. Train window not used in this model so use default (0)\n",
    "wf_mom_disp_high = walk_forward_model_apply(momentum, log_returns, regime_disp, \"high_disp\",\n",
    "                                       model_fn = model_decile_long_short)"
   ]
  },
  {
   "cell_type": "markdown",
   "metadata": {},
   "source": [
    "### Step 5 - Export walk-forward validation by dispersion regime results"
   ]
  },
  {
   "cell_type": "code",
   "execution_count": 6,
   "metadata": {},
   "outputs": [],
   "source": [
    "# Save walk-forward results by dispersion regime as parquet files\n",
    "wf_mom_disp_low_renamed = wf_mom_disp_low.rename(columns={\"returns\": \"wf_mom_disp_low_vol\"})\n",
    "wf_mom_disp_low_renamed.to_parquet(\"../data/processed/wf_mom_disp_low.parquet\")\n",
    "\n",
    "wf_mom_disp_high_renamed = wf_mom_disp_high.rename(columns={\"returns\": \"wf_mom_disp_high_vol\"})\n",
    "wf_mom_disp_high_renamed.to_parquet(\"../data/processed/wf_mom_disp_high.parquet\")"
   ]
  },
  {
   "cell_type": "code",
   "execution_count": null,
   "metadata": {},
   "outputs": [],
   "source": []
  }
 ],
 "metadata": {
  "kernelspec": {
   "display_name": "Python 3",
   "language": "python",
   "name": "python3"
  },
  "language_info": {
   "codemirror_mode": {
    "name": "ipython",
    "version": 3
   },
   "file_extension": ".py",
   "mimetype": "text/x-python",
   "name": "python",
   "nbconvert_exporter": "python",
   "pygments_lexer": "ipython3",
   "version": "3.7.3"
  }
 },
 "nbformat": 4,
 "nbformat_minor": 2
}
