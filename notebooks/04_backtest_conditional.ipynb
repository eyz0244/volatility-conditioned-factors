{
 "cells": [
  {
   "cell_type": "code",
   "execution_count": 4,
   "metadata": {},
   "outputs": [],
   "source": [
    "import sys, os\n",
    "sys.path.append(os.path.abspath(\"../src\"))\n",
    "\n",
    "from factor_calculations import compute_log_returns\n",
    "from backtest_engine import compute_long_short_returns\n",
    "\n",
    "import pandas as pd\n",
    "import numpy as np"
   ]
  },
  {
   "cell_type": "code",
   "execution_count": 9,
   "metadata": {},
   "outputs": [],
   "source": [
    "price = pd.read_parquet(\"../data/processed/price_filtered.parquet\")\n",
    "returns = compute_log_returns(price)\n",
    "\n",
    "momentum = pd.read_parquet(\"../data/processed/momentum.parquet\")\n",
    "regime_vol = pd.read_parquet(\"../data/processed/regime_market_vol.parquet\")[\"vol_regime\"]\n",
    "regime_disp = pd.read_parquet(\"../data/processed/regime_cross_dispersion.parquet\")[\"disp_regime\"] # accesses disp_regime column"
   ]
  },
  {
   "cell_type": "code",
   "execution_count": 7,
   "metadata": {},
   "outputs": [],
   "source": [
    "ls_mom_low = compute_long_short_returns(momentum, returns, regime_vol, \"low_vol\")\n",
    "ls_mom_high = compute_long_short_returns(momentum, returns, regime_vol, \"high_vol\")\n",
    "\n",
    "ls_mom_low.to_frame(name=\"mom_low_vol\").to_parquet(\"../data/processed/ls_mom_low.parquet\")\n",
    "ls_mom_high.to_frame(name=\"mom_high_vol\").to_parquet(\"../data/processed/ls_mom_high.parquet\")"
   ]
  },
  {
   "cell_type": "code",
   "execution_count": 10,
   "metadata": {},
   "outputs": [],
   "source": [
    "ls_mom_disp_low = compute_long_short_returns(momentum, returns, regime_disp, \"low_disp\")\n",
    "ls_mom_disp_high = compute_long_short_returns(momentum, returns, regime_disp, \"high_disp\")\n",
    "\n",
    "ls_mom_disp_low.to_frame(name=\"mom_low_disp\").to_parquet(\"../data/processed/ls_mom_low_disp.parquet\") # set column name\n",
    "ls_mom_disp_high.to_frame(name=\"mom_high_disp\").to_parquet(\"../data/processed/ls_mom_high_disp.parquet\")"
   ]
  },
  {
   "cell_type": "code",
   "execution_count": null,
   "metadata": {},
   "outputs": [],
   "source": []
  }
 ],
 "metadata": {
  "kernelspec": {
   "display_name": "Python 3",
   "language": "python",
   "name": "python3"
  },
  "language_info": {
   "codemirror_mode": {
    "name": "ipython",
    "version": 3
   },
   "file_extension": ".py",
   "mimetype": "text/x-python",
   "name": "python",
   "nbconvert_exporter": "python",
   "pygments_lexer": "ipython3",
   "version": "3.7.3"
  }
 },
 "nbformat": 4,
 "nbformat_minor": 2
}
