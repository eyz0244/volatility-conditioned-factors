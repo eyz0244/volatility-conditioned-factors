{
 "cells": [
  {
   "cell_type": "code",
   "execution_count": 7,
   "metadata": {},
   "outputs": [
    {
     "name": "stdout",
     "output_type": "stream",
     "text": [
      "450 / 503 tickers passed coverage filter (89.46%)\n"
     ]
    }
   ],
   "source": [
    "import sys, os\n",
    "sys.path.append(os.path.abspath(\"../src\"))\n",
    "import pandas as pd\n",
    "\n",
    "from data_loader import load_price_data\n",
    "\n",
    "# Load and Align Prices (Wide Format)\n",
    "price_dir = \"../data/raw_prices\"\n",
    "\n",
    "price_wide = load_price_data(price_dir)\n",
    "price_wide.to_parquet('../data/processed/price_wide.parquet')\n",
    "\n",
    "# Coverage Filter (In-Sample Universe)\n",
    "min_coverage = 0.85\n",
    "trading_days = price_wide.shape[0]\n",
    "coverage = price_wide.notna().sum() / trading_days\n",
    "valid_tickers = coverage[coverage >= min_coverage].index\n",
    "\n",
    "print(f\"{len(valid_tickers)} / {price_wide.shape[1]} tickers passed coverage filter \"\n",
    "      f\"({len(valid_tickers) / price_wide.shape[1]:.2%})\")\n",
    "price_filtered = price_wide[valid_tickers]\n",
    "\n",
    "\n",
    "price_filtered.to_parquet('../data/processed/price_filtered.parquet')\n",
    "valid_tickers.to_series().to_csv('../data/metadata/universe_tickers.csv', index=False)"
   ]
  },
  {
   "cell_type": "code",
   "execution_count": 8,
   "metadata": {},
   "outputs": [
    {
     "name": "stdout",
     "output_type": "stream",
     "text": [
      "419 / 419 tickers passed coverage filter (100.00%)\n"
     ]
    }
   ],
   "source": [
    "import sys, os\n",
    "sys.path.append(os.path.abspath(\"../src\"))\n",
    "import pandas as pd\n",
    "\n",
    "from data_loader import load_price_data\n",
    "\n",
    "# Load raw wide-format prices\n",
    "price_dir = \"../data/raw_prices\"\n",
    "price_wide_raw = load_price_data(price_dir)\n",
    "\n",
    "# After initial load\n",
    "original_tickers = set(price_wide_raw.columns)\n",
    "print(f\"Initial universe: {len(original_tickers)} tickers\")\n",
    "\n",
    "# Drop weekends\n",
    "price_wide = price_wide_raw[price_wide_raw.index.dayofweek < 5]\n",
    "\n",
    "# Drop duplicate timestamps\n",
    "price_wide = price_wide[~price_wide.index.duplicated()]\n",
    "\n",
    "# Drop tickers with all prices ≤ 1\n",
    "price_wide = price_wide.loc[:, (price_wide > 1).all()]\n",
    "\n",
    "# After price > 1 filter\n",
    "post_price_filter = set(price_wide.columns)\n",
    "dropped_price = original_tickers - post_price_filter\n",
    "print(f\"Dropped due to price ≤ 1 or nonpositive values: {len(dropped_price)} tickers\")\n",
    "\n",
    "\n",
    "\n",
    "\n",
    "# Save cleaned wide-format price data\n",
    "price_wide.to_parquet('../data/processed/price_wide.parquet')\n",
    "\n",
    "# Coverage Filter (In-Sample Universe)\n",
    "min_coverage = 0.85\n",
    "trading_days = price_wide.shape[0]\n",
    "coverage = price_wide.notna().sum() / trading_days\n",
    "valid_tickers = coverage[coverage >= min_coverage].index\n",
    "\n",
    "# Reference universe size (e.g., 503 tickers in original S&P 500 file)\n",
    "original_tickers = price_wide_raw.columns\n",
    "baseline_count = len(original_tickers)\n",
    "valid_count = len(valid_tickers)\n",
    "coverage_pct = valid_count / baseline_count\n",
    "\n",
    "print(f\"{valid_count} / {baseline_count} tickers passed full cleaning and coverage filter \"\n",
    "      f\"({coverage_pct:.2%})\")\n",
    "\n",
    "# Final filtered price panel\n",
    "price_filtered = price_wide[valid_tickers]\n",
    "price_filtered.to_parquet('../data/processed/price_filtered.parquet')\n",
    "\n",
    "# Save metadata\n",
    "valid_tickers.to_series().to_csv('../data/metadata/universe_tickers.csv', index=False)"
   ]
  },
  {
   "cell_type": "code",
   "execution_count": 9,
   "metadata": {},
   "outputs": [
    {
     "data": {
      "text/plain": [
       "0.8330019880715706"
      ]
     },
     "execution_count": 9,
     "metadata": {},
     "output_type": "execute_result"
    }
   ],
   "source": [
    "419/503"
   ]
  },
  {
   "cell_type": "code",
   "execution_count": null,
   "metadata": {},
   "outputs": [],
   "source": []
  },
  {
   "cell_type": "code",
   "execution_count": null,
   "metadata": {},
   "outputs": [],
   "source": []
  },
  {
   "cell_type": "code",
   "execution_count": null,
   "metadata": {},
   "outputs": [],
   "source": []
  },
  {
   "cell_type": "code",
   "execution_count": null,
   "metadata": {},
   "outputs": [],
   "source": []
  },
  {
   "cell_type": "code",
   "execution_count": null,
   "metadata": {},
   "outputs": [],
   "source": []
  },
  {
   "cell_type": "code",
   "execution_count": null,
   "metadata": {},
   "outputs": [],
   "source": []
  }
 ],
 "metadata": {
  "kernelspec": {
   "display_name": "Python 3",
   "language": "python",
   "name": "python3"
  },
  "language_info": {
   "codemirror_mode": {
    "name": "ipython",
    "version": 3
   },
   "file_extension": ".py",
   "mimetype": "text/x-python",
   "name": "python",
   "nbconvert_exporter": "python",
   "pygments_lexer": "ipython3",
   "version": "3.7.3"
  }
 },
 "nbformat": 4,
 "nbformat_minor": 2
}
