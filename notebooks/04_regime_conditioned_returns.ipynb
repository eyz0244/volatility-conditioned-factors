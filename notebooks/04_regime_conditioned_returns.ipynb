{
 "cells": [
  {
   "cell_type": "markdown",
   "metadata": {},
   "source": [
    "## Notebook 04 – Regime Conditioned Returns\n",
    "\n",
    "This notebook computes returns in high-vol vs low-vol regimes, via holding long positions on the top momentum factor decile tickers and short positions on the bottom momentum factor decile tickers. This notebook then exports the results\n",
    "for downstream analysis."
   ]
  },
  {
   "cell_type": "markdown",
   "metadata": {},
   "source": [
    "### Step 0 - Import packages and functions"
   ]
  },
  {
   "cell_type": "code",
   "execution_count": 1,
   "metadata": {},
   "outputs": [
    {
     "name": "stderr",
     "output_type": "stream",
     "text": [
      "C:\\Users\\edzz0\\AppData\\Local\\Continuum\\anaconda3\\lib\\site-packages\\pandas\\compat\\_optional.py:138: UserWarning: Pandas requires version '2.7.0' or newer of 'numexpr' (version '2.6.9' currently installed).\n",
      "  warnings.warn(msg, UserWarning)\n"
     ]
    }
   ],
   "source": [
    "import sys, os\n",
    "sys.path.append(os.path.abspath(\"../src\"))\n",
    "\n",
    "from factor_calculations import compute_log_returns\n",
    "from backtest_engine import compute_long_short_returns\n",
    "\n",
    "import pandas as pd\n",
    "import numpy as np"
   ]
  },
  {
   "cell_type": "markdown",
   "metadata": {},
   "source": [
    "### Step 1 - Import Log Prices, Momentum, Volatility Regime, and Dispersion Regime datasets"
   ]
  },
  {
   "cell_type": "code",
   "execution_count": 2,
   "metadata": {},
   "outputs": [],
   "source": [
    "# Import log returns\n",
    "log_returns = pd.read_parquet(\"../data/processed/log_returns.parquet\")\n",
    "\n",
    "# Import momentum\n",
    "momentum = pd.read_parquet(\"../data/processed/momentum.parquet\")\n",
    "\n",
    "# Import volatility regimes\n",
    "regime_vol = pd.read_parquet(\"../data/processed/regime_market_vol.parquet\")[\"vol_regime\"]\n",
    "\n",
    "# Import dispersion regimes\n",
    "regime_disp = pd.read_parquet(\"../data/processed/regime_cross_dispersion.parquet\")[\"disp_regime\"] # accesses disp_regime column"
   ]
  },
  {
   "cell_type": "markdown",
   "metadata": {},
   "source": [
    "### Step 2 - Compute long-short returns for low and high volatility regimes"
   ]
  },
  {
   "cell_type": "code",
   "execution_count": 3,
   "metadata": {},
   "outputs": [],
   "source": [
    "# Long-short returns for low volatility regime\n",
    "ls_mom_low = compute_long_short_returns(momentum, log_returns, regime_vol, \"low_vol\")\n",
    "\n",
    "# Long-short returns for high volatility regime\n",
    "ls_mom_high = compute_long_short_returns(momentum, log_returns, regime_vol, \"high_vol\")"
   ]
  },
  {
   "cell_type": "markdown",
   "metadata": {},
   "source": [
    "### Step 3 - Export long-short returns by volatility regime"
   ]
  },
  {
   "cell_type": "code",
   "execution_count": 4,
   "metadata": {},
   "outputs": [],
   "source": [
    "# Save long-short results by volatility regime as parquet files\n",
    "ls_mom_low.to_frame(name=\"mom_low_vol\").to_parquet(\"../data/processed/ls_mom_low.parquet\")\n",
    "ls_mom_high.to_frame(name=\"mom_high_vol\").to_parquet(\"../data/processed/ls_mom_high.parquet\")"
   ]
  },
  {
   "cell_type": "markdown",
   "metadata": {},
   "source": [
    "### Step 4 - Compute long-short returns for low and high dispersion regimes"
   ]
  },
  {
   "cell_type": "code",
   "execution_count": 5,
   "metadata": {},
   "outputs": [],
   "source": [
    "# Long-short returns for low dispersion regime\n",
    "ls_mom_disp_low = compute_long_short_returns(momentum, log_returns, regime_disp, \"low_disp\")\n",
    "\n",
    "# Long-short returns for high dispersion regime\n",
    "ls_mom_disp_high = compute_long_short_returns(momentum, log_returns, regime_disp, \"high_disp\")"
   ]
  },
  {
   "cell_type": "markdown",
   "metadata": {},
   "source": [
    "### Step 5 - Export long-short returns by dispersion regime"
   ]
  },
  {
   "cell_type": "code",
   "execution_count": 6,
   "metadata": {},
   "outputs": [],
   "source": [
    "# Save long-short results by dispersion regime as parquet files\n",
    "ls_mom_disp_low.to_frame(name=\"mom_low_disp\").to_parquet(\"../data/processed/ls_mom_low_disp.parquet\") # set column name\n",
    "ls_mom_disp_high.to_frame(name=\"mom_high_disp\").to_parquet(\"../data/processed/ls_mom_high_disp.parquet\")"
   ]
  },
  {
   "cell_type": "code",
   "execution_count": null,
   "metadata": {},
   "outputs": [],
   "source": []
  }
 ],
 "metadata": {
  "kernelspec": {
   "display_name": "Python 3",
   "language": "python",
   "name": "python3"
  },
  "language_info": {
   "codemirror_mode": {
    "name": "ipython",
    "version": 3
   },
   "file_extension": ".py",
   "mimetype": "text/x-python",
   "name": "python",
   "nbconvert_exporter": "python",
   "pygments_lexer": "ipython3",
   "version": "3.7.3"
  }
 },
 "nbformat": 4,
 "nbformat_minor": 2
}
