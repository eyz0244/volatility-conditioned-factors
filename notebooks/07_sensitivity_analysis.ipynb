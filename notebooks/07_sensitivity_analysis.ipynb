{
 "cells": [
  {
   "cell_type": "code",
   "execution_count": 18,
   "metadata": {},
   "outputs": [],
   "source": [
    "import sys, os\n",
    "sys.path.append(os.path.abspath(\"../src\"))\n",
    "\n",
    "from factor_calculations import compute_log_returns\n",
    "from backtest_engine import walk_forward_ls_by_regime\n",
    "from regime_definitions import compute_market_volatility_regime\n",
    "from stats_helpers import bootstrap_mean_diff       # bootstrap test\n",
    "\n",
    "import pandas as pd\n",
    "import numpy as np\n",
    "\n",
    "from itertools import product\n",
    "import seaborn as sns\n",
    "import matplotlib.pyplot as plt"
   ]
  },
  {
   "cell_type": "code",
   "execution_count": null,
   "metadata": {},
   "outputs": [],
   "source": [
    "# Step 1: Import dfs"
   ]
  },
  {
   "cell_type": "code",
   "execution_count": 2,
   "metadata": {},
   "outputs": [],
   "source": [
    "# Load data\n",
    "price_df = pd.read_parquet(\"../data/processed/price_filtered.parquet\")       # raw prices for regime calc\n",
    "momentum_df = pd.read_parquet(\"../data/processed/momentum.parquet\")\n",
    "returns_df = compute_log_returns(price_df)"
   ]
  },
  {
   "cell_type": "code",
   "execution_count": null,
   "metadata": {},
   "outputs": [],
   "source": [
    "# Step 2: Define Parameter Grid"
   ]
  },
  {
   "cell_type": "code",
   "execution_count": 3,
   "metadata": {},
   "outputs": [],
   "source": [
    "vol_windows = [10, 21, 63]         # days\n",
    "test_lengths = [5, 21, 63]         # days\n",
    "regime_lags = [0, 5, 10]           # days"
   ]
  },
  {
   "cell_type": "code",
   "execution_count": null,
   "metadata": {},
   "outputs": [],
   "source": [
    "# Step 3: Run Grid"
   ]
  },
  {
   "cell_type": "code",
   "execution_count": 5,
   "metadata": {},
   "outputs": [],
   "source": [
    "results = []\n",
    "\n",
    "for vw, tl, lag in product(vol_windows, test_lengths, regime_lags):\n",
    "    # Compute regime using prebuilt function\n",
    "    regime = compute_market_volatility_regime(price_df, window=vw)\n",
    "\n",
    "    # Evaluate walk-forward returns in each regime\n",
    "    stats = {}\n",
    "    for reg_label in [\"low_vol\", \"high_vol\"]:\n",
    "        res = walk_forward_ls_by_regime(\n",
    "            factor=momentum_df,\n",
    "            returns=returns_df,\n",
    "            regime=regime,\n",
    "            target_regime=reg_label,\n",
    "            lag_days=lag,\n",
    "            train_window=252,\n",
    "            test_window=tl\n",
    "        )\n",
    "        stats[reg_label] = res\n",
    "\n",
    "    # Bootstrap difference between regimes\n",
    "    bootstrap_result = bootstrap_mean_diff(\n",
    "        stats[\"low_vol\"][\"returns\"],\n",
    "        stats[\"high_vol\"][\"returns\"]\n",
    "    )\n",
    "    diff_pval = bootstrap_result[\"p_value\"]\n",
    "    diff_mean = bootstrap_result[\"mean_diff\"]\n",
    "    \n",
    "\n",
    "    # Save\n",
    "    results.append({\n",
    "        \"vol_window\": vw,\n",
    "        \"test_len\": tl,\n",
    "        \"lag_days\": lag,\n",
    "        \"mean_low\": stats[\"low_vol\"][\"returns\"].mean(),\n",
    "        \"mean_high\": stats[\"high_vol\"][\"returns\"].mean(),\n",
    "        \"mean_diff\": diff_mean,\n",
    "        \"pval\": diff_pval\n",
    "    })"
   ]
  },
  {
   "cell_type": "code",
   "execution_count": null,
   "metadata": {},
   "outputs": [],
   "source": [
    "# Step 4: Store Outputs"
   ]
  },
  {
   "cell_type": "code",
   "execution_count": 6,
   "metadata": {},
   "outputs": [],
   "source": [
    "# Convert to DataFrame and save\n",
    "results_df = pd.DataFrame(results)"
   ]
  },
  {
   "cell_type": "code",
   "execution_count": 8,
   "metadata": {},
   "outputs": [],
   "source": [
    "results_df.to_parquet(\"../data/processed/sensitivity_results.parquet\")"
   ]
  },
  {
   "cell_type": "code",
   "execution_count": 9,
   "metadata": {},
   "outputs": [],
   "source": [
    "results_df.to_csv(\"../data/processed/sensitivity_results.csv\")"
   ]
  },
  {
   "cell_type": "code",
   "execution_count": 14,
   "metadata": {},
   "outputs": [],
   "source": [
    "# Plot"
   ]
  },
  {
   "cell_type": "code",
   "execution_count": 16,
   "metadata": {},
   "outputs": [
    {
     "data": {
      "text/html": [
       "<div>\n",
       "<style scoped>\n",
       "    .dataframe tbody tr th:only-of-type {\n",
       "        vertical-align: middle;\n",
       "    }\n",
       "\n",
       "    .dataframe tbody tr th {\n",
       "        vertical-align: top;\n",
       "    }\n",
       "\n",
       "    .dataframe thead th {\n",
       "        text-align: right;\n",
       "    }\n",
       "</style>\n",
       "<table border=\"1\" class=\"dataframe\">\n",
       "  <thead>\n",
       "    <tr style=\"text-align: right;\">\n",
       "      <th></th>\n",
       "      <th>vol_window</th>\n",
       "      <th>test_len</th>\n",
       "      <th>lag_days</th>\n",
       "      <th>mean_low</th>\n",
       "      <th>mean_high</th>\n",
       "      <th>mean_diff</th>\n",
       "      <th>pval</th>\n",
       "    </tr>\n",
       "  </thead>\n",
       "  <tbody>\n",
       "    <tr>\n",
       "      <th>0</th>\n",
       "      <td>10</td>\n",
       "      <td>5</td>\n",
       "      <td>0</td>\n",
       "      <td>0.000092</td>\n",
       "      <td>-0.000101</td>\n",
       "      <td>0.000192</td>\n",
       "      <td>0.757</td>\n",
       "    </tr>\n",
       "    <tr>\n",
       "      <th>1</th>\n",
       "      <td>10</td>\n",
       "      <td>5</td>\n",
       "      <td>5</td>\n",
       "      <td>0.000155</td>\n",
       "      <td>-0.000511</td>\n",
       "      <td>0.000666</td>\n",
       "      <td>0.527</td>\n",
       "    </tr>\n",
       "    <tr>\n",
       "      <th>2</th>\n",
       "      <td>10</td>\n",
       "      <td>5</td>\n",
       "      <td>10</td>\n",
       "      <td>0.000408</td>\n",
       "      <td>-0.000486</td>\n",
       "      <td>0.000894</td>\n",
       "      <td>0.486</td>\n",
       "    </tr>\n",
       "    <tr>\n",
       "      <th>3</th>\n",
       "      <td>10</td>\n",
       "      <td>21</td>\n",
       "      <td>0</td>\n",
       "      <td>0.000092</td>\n",
       "      <td>-0.000095</td>\n",
       "      <td>0.000187</td>\n",
       "      <td>0.786</td>\n",
       "    </tr>\n",
       "    <tr>\n",
       "      <th>4</th>\n",
       "      <td>10</td>\n",
       "      <td>21</td>\n",
       "      <td>5</td>\n",
       "      <td>0.000155</td>\n",
       "      <td>-0.000511</td>\n",
       "      <td>0.000666</td>\n",
       "      <td>0.501</td>\n",
       "    </tr>\n",
       "  </tbody>\n",
       "</table>\n",
       "</div>"
      ],
      "text/plain": [
       "   vol_window  test_len  lag_days  mean_low  mean_high  mean_diff   pval\n",
       "0          10         5         0  0.000092  -0.000101   0.000192  0.757\n",
       "1          10         5         5  0.000155  -0.000511   0.000666  0.527\n",
       "2          10         5        10  0.000408  -0.000486   0.000894  0.486\n",
       "3          10        21         0  0.000092  -0.000095   0.000187  0.786\n",
       "4          10        21         5  0.000155  -0.000511   0.000666  0.501"
      ]
     },
     "execution_count": 16,
     "metadata": {},
     "output_type": "execute_result"
    }
   ],
   "source": [
    "results_df.head()\n"
   ]
  },
  {
   "cell_type": "code",
   "execution_count": 24,
   "metadata": {},
   "outputs": [
    {
     "data": {
      "text/plain": [
       "<Figure size 432x288 with 0 Axes>"
      ]
     },
     "metadata": {},
     "output_type": "display_data"
    }
   ],
   "source": [
    "for lag in results_df['lag_days'].unique():\n",
    "\n",
    "    pivot = results_df[results_df[\"lag_days\"] == lag].pivot(\n",
    "        index=\"vol_window\",\n",
    "        columns=\"test_len\",\n",
    "        values=\"mean_diff\"\n",
    "    )\n",
    "\n",
    "    sns.heatmap(pivot, annot=True, fmt=\".5f\", cmap=\"coolwarm\")\n",
    "    plt.title(\"Mean Return Difference (Low - High Vol), Lag = \" + str(lag))\n",
    "    plt.xlabel(\"Test Window Length\")\n",
    "    plt.ylabel(\"Volatility Regime Window\")\n",
    "    plt.tight_layout()\n",
    "    plt.savefig(\"../research/plots/heatmap_mean_diff_lag\" + str(lag) + \".png\")\n",
    "    plt.clf()  # ← resets the figure"
   ]
  },
  {
   "cell_type": "code",
   "execution_count": null,
   "metadata": {},
   "outputs": [],
   "source": []
  },
  {
   "cell_type": "code",
   "execution_count": null,
   "metadata": {},
   "outputs": [],
   "source": []
  },
  {
   "cell_type": "code",
   "execution_count": null,
   "metadata": {},
   "outputs": [],
   "source": []
  },
  {
   "cell_type": "markdown",
   "metadata": {},
   "source": [
    "While momentum showed directionally stronger returns in low-volatility regimes across all grid settings, no configuration produced statistically significant alpha at conventional confidence levels. This suggests regime-aware signals may exist but are not reliably extractable using standard decile-sorting approaches on daily data."
   ]
  },
  {
   "cell_type": "code",
   "execution_count": null,
   "metadata": {},
   "outputs": [],
   "source": []
  }
 ],
 "metadata": {
  "kernelspec": {
   "display_name": "Python 3",
   "language": "python",
   "name": "python3"
  },
  "language_info": {
   "codemirror_mode": {
    "name": "ipython",
    "version": 3
   },
   "file_extension": ".py",
   "mimetype": "text/x-python",
   "name": "python",
   "nbconvert_exporter": "python",
   "pygments_lexer": "ipython3",
   "version": "3.7.3"
  }
 },
 "nbformat": 4,
 "nbformat_minor": 2
}
