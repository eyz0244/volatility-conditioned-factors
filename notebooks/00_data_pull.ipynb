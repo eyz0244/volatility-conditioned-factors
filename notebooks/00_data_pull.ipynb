{
 "cells": [
  {
   "cell_type": "markdown",
   "metadata": {},
   "source": [
    "## Notebook 00 – Data Pull\n",
    "\n",
    "This notebook pulls and exports the data required for this project from EODHD. \n",
    "\n",
    "**Note:** To run this notebook, you must set your EODHD API key in `src/config.py`.\n",
    "\n",
    "Replace the following line in `config.py`:\n",
    "\n",
    "    API_KEY = \"\"  # Add your actual key here\n",
    "\n",
    "Alternatively, you can store the key as an environment variable and update `config.py` like this:\n",
    "\n",
    "    import os\n",
    "    API_KEY = os.getenv(\"EODHD_API_KEY\")"
   ]
  },
  {
   "cell_type": "markdown",
   "metadata": {},
   "source": [
    "### Step 0 - Import packages and functions"
   ]
  },
  {
   "cell_type": "code",
   "execution_count": null,
   "metadata": {},
   "outputs": [],
   "source": [
    "import sys, os\n",
    "sys.path.append(os.path.abspath(\"../src\"))\n",
    "sys.path.append(\"..\") \n",
    "import pandas as pd\n",
    "import requests\n",
    "import time\n",
    "\n",
    "# Helper functions to pull data\n",
    "from data_fetcher import fetch_and_save_price\n",
    "\n",
    "# Import global variables\n",
    "from config import API_KEY, BASE_URL, DATE_FROM, DATE_TO, OUTPUT_DIR"
   ]
  },
  {
   "cell_type": "markdown",
   "metadata": {},
   "source": [
    "### Step 1 - Create suffix mapping"
   ]
  },
  {
   "cell_type": "code",
   "execution_count": null,
   "metadata": {},
   "outputs": [],
   "source": [
    "# Create suffix mapping to account for EODHD naming convention\n",
    "suffix_map = {\n",
    "    'sp500.csv': '.US',        # US – Covers both NASDAQ and NYSE\n",
    "}"
   ]
  },
  {
   "cell_type": "markdown",
   "metadata": {},
   "source": [
    "### Step 2 - Create data folder if needed"
   ]
  },
  {
   "cell_type": "code",
   "execution_count": null,
   "metadata": {},
   "outputs": [],
   "source": [
    "os.makedirs(OUTPUT_DIR, exist_ok=True)"
   ]
  },
  {
   "cell_type": "markdown",
   "metadata": {},
   "source": [
    "### Step 3 - Get list of tickers"
   ]
  },
  {
   "cell_type": "code",
   "execution_count": null,
   "metadata": {},
   "outputs": [],
   "source": [
    "dfs = {}\n",
    "path = '../data'\n",
    "for file in os.listdir(path):\n",
    "    if file.endswith('.csv') and file in suffix_map:\n",
    "        df = pd.read_csv(\n",
    "            os.path.join(path, file),\n",
    "            encoding='utf-8-sig',\n",
    "            dtype={'ticker': str},\n",
    "            keep_default_na=False\n",
    "        )\n",
    "        suffix = suffix_map[file]\n",
    "        df['ticker'] = df['ticker'].str.strip()\n",
    "\n",
    "        df['eodhd_ticker'] = df['ticker'].apply(\n",
    "            lambda x: x if x.endswith(suffix) else x + suffix # change ticker to match EODHD naming conventions\n",
    "        )\n",
    "        dfs[file] = df"
   ]
  },
  {
   "cell_type": "markdown",
   "metadata": {},
   "source": [
    "### Step 4 - Pull and export data"
   ]
  },
  {
   "cell_type": "code",
   "execution_count": null,
   "metadata": {},
   "outputs": [],
   "source": [
    "for fname, df in dfs.items():\n",
    "    for ticker in df['eodhd_ticker']:\n",
    "        fetch_and_save_price(ticker, fname, BASE_URL, API_KEY, DATE_FROM, DATE_TO, OUTPUT_DIR)\n",
    "        time.sleep(1.2)  # Respect rate limits"
   ]
  },
  {
   "cell_type": "code",
   "execution_count": null,
   "metadata": {},
   "outputs": [],
   "source": []
  },
  {
   "cell_type": "code",
   "execution_count": null,
   "metadata": {},
   "outputs": [],
   "source": []
  },
  {
   "cell_type": "code",
   "execution_count": null,
   "metadata": {},
   "outputs": [],
   "source": []
  },
  {
   "cell_type": "code",
   "execution_count": null,
   "metadata": {},
   "outputs": [],
   "source": []
  }
 ],
 "metadata": {
  "kernelspec": {
   "display_name": "Python 3",
   "language": "python",
   "name": "python3"
  },
  "language_info": {
   "codemirror_mode": {
    "name": "ipython",
    "version": 3
   },
   "file_extension": ".py",
   "mimetype": "text/x-python",
   "name": "python",
   "nbconvert_exporter": "python",
   "pygments_lexer": "ipython3",
   "version": "3.7.3"
  }
 },
 "nbformat": 4,
 "nbformat_minor": 2
}
