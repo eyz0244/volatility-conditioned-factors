{
 "cells": [
  {
   "cell_type": "code",
   "execution_count": 1,
   "metadata": {},
   "outputs": [
    {
     "name": "stderr",
     "output_type": "stream",
     "text": [
      "C:\\Users\\edzz0\\AppData\\Local\\Continuum\\anaconda3\\lib\\site-packages\\pandas\\compat\\_optional.py:138: UserWarning: Pandas requires version '2.7.0' or newer of 'numexpr' (version '2.6.9' currently installed).\n",
      "  warnings.warn(msg, UserWarning)\n"
     ]
    }
   ],
   "source": [
    "import sys, os\n",
    "sys.path.append(os.path.abspath(\"../src\"))\n",
    "\n",
    "from stats_helpers import bootstrap_ci, bootstrap_mean_diff\n",
    "\n",
    "import pandas as pd\n",
    "import numpy as np"
   ]
  },
  {
   "cell_type": "code",
   "execution_count": 2,
   "metadata": {},
   "outputs": [],
   "source": [
    "low = pd.read_parquet(\"../data/processed/wf_mom_low.parquet\")[\"wf_mom_low_vol\"]\n",
    "high = pd.read_parquet(\"../data/processed/wf_mom_high.parquet\")[\"wf_mom_high_vol\"]"
   ]
  },
  {
   "cell_type": "code",
   "execution_count": 3,
   "metadata": {},
   "outputs": [
    {
     "name": "stdout",
     "output_type": "stream",
     "text": [
      "Low Vol Regime: {'mean': 0.0003827430957048995, 'ci_lower': -0.0001808077465147416, 'ci_upper': 0.0009330712605986483}\n",
      "High Vol Regime: {'mean': -0.00030434334560052595, 'ci_lower': -0.0014975370708861545, 'ci_upper': 0.0008810528032358941}\n",
      "Difference: {'mean_diff': 0.0006870864413054255, 'ci_lower': -0.0006397975494750544, 'ci_upper': 0.0019391889816403188, 'p_value': 0.519}\n"
     ]
    }
   ],
   "source": [
    "ci_low = bootstrap_ci(low)\n",
    "ci_high = bootstrap_ci(high)\n",
    "diff_result = bootstrap_mean_diff(low, high)\n",
    "\n",
    "print(\"Low Vol Regime:\", ci_low)\n",
    "print(\"High Vol Regime:\", ci_high)\n",
    "print(\"Difference:\", diff_result)"
   ]
  },
  {
   "cell_type": "code",
   "execution_count": null,
   "metadata": {},
   "outputs": [],
   "source": []
  }
 ],
 "metadata": {
  "kernelspec": {
   "display_name": "Python 3",
   "language": "python",
   "name": "python3"
  },
  "language_info": {
   "codemirror_mode": {
    "name": "ipython",
    "version": 3
   },
   "file_extension": ".py",
   "mimetype": "text/x-python",
   "name": "python",
   "nbconvert_exporter": "python",
   "pygments_lexer": "ipython3",
   "version": "3.7.3"
  }
 },
 "nbformat": 4,
 "nbformat_minor": 2
}
