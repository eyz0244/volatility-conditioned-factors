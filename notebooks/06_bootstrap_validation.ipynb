{
 "cells": [
  {
   "cell_type": "markdown",
   "metadata": {},
   "source": [
    "## Notebook 06 – Bootstrap Validation\n",
    "\n",
    "This notebook performs boostrap validation of long vs short momentum returns conditioned on volatility and dispersion regimes. The bootstrap function returns mean difference, lower and upper confidence intervals, as well as p-value for the differences."
   ]
  },
  {
   "cell_type": "markdown",
   "metadata": {},
   "source": [
    "### Step 0 - Import packages and functions"
   ]
  },
  {
   "cell_type": "code",
   "execution_count": 1,
   "metadata": {},
   "outputs": [
    {
     "name": "stderr",
     "output_type": "stream",
     "text": [
      "C:\\Users\\edzz0\\AppData\\Local\\Continuum\\anaconda3\\lib\\site-packages\\pandas\\compat\\_optional.py:138: UserWarning: Pandas requires version '2.7.0' or newer of 'numexpr' (version '2.6.9' currently installed).\n",
      "  warnings.warn(msg, UserWarning)\n"
     ]
    }
   ],
   "source": [
    "import sys, os\n",
    "sys.path.append(os.path.abspath(\"../src\"))\n",
    "\n",
    "from stats_helpers import bootstrap_ci, bootstrap_mean_diff\n",
    "\n",
    "import pandas as pd\n",
    "import numpy as np"
   ]
  },
  {
   "cell_type": "markdown",
   "metadata": {},
   "source": [
    "### Step 1 - Import long-short returns by low vs high volatility and dispersion regimes."
   ]
  },
  {
   "cell_type": "code",
   "execution_count": 2,
   "metadata": {},
   "outputs": [],
   "source": [
    "# Import walk-forward long-short returns in low volatility regime\n",
    "low = pd.read_parquet(\"../data/processed/wf_mom_low.parquet\")[\"wf_mom_low_vol\"]\n",
    "\n",
    "# Import walk-forward long-short returns in high volatility regime\n",
    "high = pd.read_parquet(\"../data/processed/wf_mom_high.parquet\")[\"wf_mom_high_vol\"]\n",
    "\n",
    "# Import walk-forward long-short returns in low dispersion regime\n",
    "low_disp = pd.read_parquet(\"../data/processed/wf_mom_disp_low.parquet\")[\"wf_mom_disp_low_vol\"]\n",
    "\n",
    "# Import walk-forward long-short returns in high dispersion regime\n",
    "high_disp = pd.read_parquet(\"../data/processed/wf_mom_disp_high.parquet\")[\"wf_mom_disp_high_vol\"]"
   ]
  },
  {
   "cell_type": "markdown",
   "metadata": {},
   "source": [
    "### Step 2 - Conduct bootstrap validation on long-short returns by volatility regime"
   ]
  },
  {
   "cell_type": "code",
   "execution_count": 5,
   "metadata": {},
   "outputs": [
    {
     "name": "stdout",
     "output_type": "stream",
     "text": [
      "Low Vol Regime: {'mean': 0.0003365919609624065, 'ci_lower': -0.00022868157723523433, 'ci_upper': 0.0008854924857720503}\n",
      "High Vol Regime: {'mean': -0.0003741125617997544, 'ci_lower': -0.0015388415861314437, 'ci_upper': 0.0008574853711580156}\n",
      "Low vs High Vol Difference: {'mean_diff': 0.000710704522762161, 'ci_lower': -0.0006078240770691856, 'ci_upper': 0.0019478905173025902, 'p_value': 0.514}\n"
     ]
    }
   ],
   "source": [
    "# Set Seed for replicability\n",
    "np.random.seed(0)\n",
    "\n",
    "# Bootstrap on low volatility returns\n",
    "ci_low = bootstrap_ci(low)\n",
    "\n",
    "# Bootstrap on high volatility returns\n",
    "ci_high = bootstrap_ci(high)\n",
    "\n",
    "# Bootstrap on difference between low and high volatility regime returns\n",
    "diff_result = bootstrap_mean_diff(low, high)\n",
    "\n",
    "print(\"Low Vol Regime:\", ci_low) # Mean + Confidence interval for low volatility regime returns\n",
    "print(\"High Vol Regime:\", ci_high) # Mean + Confidence interval for high volatility regime returns\n",
    "print(\"Low vs High Vol Difference:\", diff_result) # Mean + Confidence interval for volatility regime return differences"
   ]
  },
  {
   "cell_type": "markdown",
   "metadata": {},
   "source": [
    "### Step 3 - Conduct bootstrap validation on long-short returns by dispersion regime"
   ]
  },
  {
   "cell_type": "code",
   "execution_count": 6,
   "metadata": {},
   "outputs": [
    {
     "name": "stdout",
     "output_type": "stream",
     "text": [
      "Low Disp Regime: {'mean': 0.00020150910816641812, 'ci_lower': -0.00034550971752278313, 'ci_upper': 0.0007285933788388281}\n",
      "High Disp Regime: {'mean': 8.67800443106957e-05, 'ci_lower': -0.001017544174076189, 'ci_upper': 0.0012228705453475432}\n",
      "Low vs High Disp Difference: {'mean_diff': 0.00011472906385572242, 'ci_lower': -0.0011715538600531683, 'ci_upper': 0.0014323217054292227, 'p_value': 0.871}\n"
     ]
    }
   ],
   "source": [
    "# Set Seed for replicability\n",
    "np.random.seed(0)\n",
    "\n",
    "# Bootstrap on low dispersion returns\n",
    "ci_low_disp = bootstrap_ci(low_disp)\n",
    "\n",
    "# Bootstrap on high dispersion returns\n",
    "ci_high_disp = bootstrap_ci(high_disp)\n",
    "\n",
    "# Bootstrap on difference between low and high dispersion regime returns\n",
    "diff_result_disp = bootstrap_mean_diff(low_disp, high_disp)\n",
    "\n",
    "print(\"Low Disp Regime:\", ci_low_disp) # Mean + Confidence interval for low dispersion regime returns\n",
    "print(\"High Disp Regime:\", ci_high_disp) # Mean + Confidence interval for low dispersion regime returns\n",
    "print(\"Low vs High Disp Difference:\", diff_result_disp) # Mean + Confidence interval for dispersion regime return differences"
   ]
  },
  {
   "cell_type": "code",
   "execution_count": null,
   "metadata": {},
   "outputs": [],
   "source": []
  }
 ],
 "metadata": {
  "kernelspec": {
   "display_name": "Python 3",
   "language": "python",
   "name": "python3"
  },
  "language_info": {
   "codemirror_mode": {
    "name": "ipython",
    "version": 3
   },
   "file_extension": ".py",
   "mimetype": "text/x-python",
   "name": "python",
   "nbconvert_exporter": "python",
   "pygments_lexer": "ipython3",
   "version": "3.7.3"
  }
 },
 "nbformat": 4,
 "nbformat_minor": 2
}
