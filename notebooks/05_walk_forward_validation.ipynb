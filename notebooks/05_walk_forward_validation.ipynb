{
 "cells": [
  {
   "cell_type": "code",
   "execution_count": 1,
   "metadata": {},
   "outputs": [
    {
     "name": "stderr",
     "output_type": "stream",
     "text": [
      "C:\\Users\\edzz0\\AppData\\Local\\Continuum\\anaconda3\\lib\\site-packages\\pandas\\compat\\_optional.py:138: UserWarning: Pandas requires version '2.7.0' or newer of 'numexpr' (version '2.6.9' currently installed).\n",
      "  warnings.warn(msg, UserWarning)\n"
     ]
    }
   ],
   "source": [
    "import sys, os\n",
    "sys.path.append(os.path.abspath(\"../src\"))\n",
    "\n",
    "from factor_calculations import compute_log_returns\n",
    "from backtest_engine import walk_forward_ls_by_regime\n",
    "\n",
    "import pandas as pd\n",
    "import numpy as np"
   ]
  },
  {
   "cell_type": "code",
   "execution_count": 2,
   "metadata": {},
   "outputs": [],
   "source": [
    "price = pd.read_parquet(\"../data/processed/price_filtered.parquet\")\n",
    "returns = compute_log_returns(price)\n",
    "\n",
    "momentum = pd.read_parquet(\"../data/processed/momentum.parquet\")\n",
    "regime_vol = pd.read_parquet(\"../data/processed/regime_market_vol.parquet\")[\"vol_regime\"]"
   ]
  },
  {
   "cell_type": "code",
   "execution_count": 3,
   "metadata": {},
   "outputs": [],
   "source": [
    "wf_mom_low = walk_forward_ls_by_regime(momentum, returns, regime_vol, \"low_vol\")\n",
    "wf_mom_high = walk_forward_ls_by_regime(momentum, returns, regime_vol, \"high_vol\")\n",
    "\n",
    "wf_mom_low.to_frame(name=\"wf_mom_low_vol\").to_parquet(\"../data/processed/wf_mom_low.parquet\")\n",
    "wf_mom_high.to_frame(name=\"wf_mom_high_vol\").to_parquet(\"../data/processed/wf_mom_high.parquet\")"
   ]
  },
  {
   "cell_type": "code",
   "execution_count": null,
   "metadata": {},
   "outputs": [],
   "source": []
  }
 ],
 "metadata": {
  "kernelspec": {
   "display_name": "Python 3",
   "language": "python",
   "name": "python3"
  },
  "language_info": {
   "codemirror_mode": {
    "name": "ipython",
    "version": 3
   },
   "file_extension": ".py",
   "mimetype": "text/x-python",
   "name": "python",
   "nbconvert_exporter": "python",
   "pygments_lexer": "ipython3",
   "version": "3.7.3"
  }
 },
 "nbformat": 4,
 "nbformat_minor": 2
}
