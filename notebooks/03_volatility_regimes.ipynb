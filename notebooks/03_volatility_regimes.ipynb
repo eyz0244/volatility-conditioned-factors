{
 "cells": [
  {
   "cell_type": "code",
   "execution_count": 1,
   "metadata": {},
   "outputs": [
    {
     "name": "stderr",
     "output_type": "stream",
     "text": [
      "C:\\Users\\edzz0\\AppData\\Local\\Continuum\\anaconda3\\lib\\site-packages\\pandas\\compat\\_optional.py:138: UserWarning: Pandas requires version '2.7.0' or newer of 'numexpr' (version '2.6.9' currently installed).\n",
      "  warnings.warn(msg, UserWarning)\n"
     ]
    }
   ],
   "source": [
    "import sys, os\n",
    "sys.path.append(os.path.abspath(\"../src\"))\n",
    "\n",
    "from regime_definitions import compute_market_volatility_regime, compute_cross_sectional_dispersion_regime\n",
    "from data_loader import load_price_data\n",
    "import pandas as pd\n",
    "import numpy as np"
   ]
  },
  {
   "cell_type": "code",
   "execution_count": 2,
   "metadata": {},
   "outputs": [],
   "source": [
    "price = pd.read_parquet(\"../data/processed/price_filtered.parquet\")\n",
    "\n",
    "regime_vol = compute_market_volatility_regime(price)\n",
    "regime_disp = compute_cross_sectional_dispersion_regime(price)\n",
    "\n",
    "regime_vol.to_frame(name=\"vol_regime\").to_parquet(\"../data/processed/regime_market_vol.parquet\")\n",
    "regime_disp.to_frame(name=\"disp_regime\").to_parquet(\"../data/processed/regime_cross_dispersion.parquet\")"
   ]
  },
  {
   "cell_type": "code",
   "execution_count": 3,
   "metadata": {},
   "outputs": [
    {
     "data": {
      "text/plain": [
       "(3862, 419)"
      ]
     },
     "execution_count": 3,
     "metadata": {},
     "output_type": "execute_result"
    }
   ],
   "source": [
    "price.shape"
   ]
  },
  {
   "cell_type": "code",
   "execution_count": 19,
   "metadata": {},
   "outputs": [
    {
     "data": {
      "text/plain": [
       "date\n",
       "2010-01-04     neutral\n",
       "2010-01-05     neutral\n",
       "2010-01-06     neutral\n",
       "2010-01-07     neutral\n",
       "2010-01-08     neutral\n",
       "                ...   \n",
       "2025-05-05    high_vol\n",
       "2025-05-06    high_vol\n",
       "2025-05-07    high_vol\n",
       "2025-05-08    high_vol\n",
       "2025-05-09    high_vol\n",
       "Length: 3862, dtype: object"
      ]
     },
     "execution_count": 19,
     "metadata": {},
     "output_type": "execute_result"
    }
   ],
   "source": [
    "regime_vol"
   ]
  },
  {
   "cell_type": "code",
   "execution_count": null,
   "metadata": {},
   "outputs": [],
   "source": []
  },
  {
   "cell_type": "code",
   "execution_count": null,
   "metadata": {},
   "outputs": [],
   "source": []
  }
 ],
 "metadata": {
  "kernelspec": {
   "display_name": "Python 3",
   "language": "python",
   "name": "python3"
  },
  "language_info": {
   "codemirror_mode": {
    "name": "ipython",
    "version": 3
   },
   "file_extension": ".py",
   "mimetype": "text/x-python",
   "name": "python",
   "nbconvert_exporter": "python",
   "pygments_lexer": "ipython3",
   "version": "3.7.3"
  }
 },
 "nbformat": 4,
 "nbformat_minor": 2
}
